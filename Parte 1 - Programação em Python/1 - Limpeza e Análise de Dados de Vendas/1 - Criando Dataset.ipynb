{
 "cells": [
  {
   "cell_type": "markdown",
   "metadata": {},
   "source": [
    "# Projeto Data Analysis - Pedro Soares"
   ]
  },
  {
   "cell_type": "markdown",
   "metadata": {},
   "source": [
    "#### Importando as Bibliotecas que irei usar aqui"
   ]
  },
  {
   "cell_type": "code",
   "execution_count": 1,
   "metadata": {},
   "outputs": [],
   "source": [
    "import pandas as pd\n",
    "import random\n",
    "import datetime\n",
    "import numpy as np\n",
    "from datetime import time"
   ]
  },
  {
   "cell_type": "markdown",
   "metadata": {},
   "source": [
    "#### Criando função para gerar nomes dos produtos que escolhi para simularmos"
   ]
  },
  {
   "cell_type": "code",
   "execution_count": 2,
   "metadata": {},
   "outputs": [],
   "source": [
    "def gerando_produto():\n",
    "    produto = np.random.choice(['Acai', 'Sorvete'])\n",
    "    return produto\n"
   ]
  },
  {
   "cell_type": "code",
   "execution_count": 3,
   "metadata": {},
   "outputs": [],
   "source": [
    "def gerando_tamanho():\n",
    "    tamanho = np.random.choice(['0', '200ml', '300ml', '400ml', '500ml', '700ml'])\n",
    "    return tamanho\n",
    "\n"
   ]
  },
  {
   "cell_type": "code",
   "execution_count": 4,
   "metadata": {},
   "outputs": [],
   "source": [
    "def gerando_preco(tamanho):\n",
    "    # Dicionário para atribuir preço com base no tamanho que colocamos acima\n",
    "    precos = {'0': 0, '200ml': 10, '300ml': 13, '400ml': 14, '500ml': 16, '700ml': 20}\n",
    "    return precos[tamanho]\n",
    "\n"
   ]
  },
  {
   "cell_type": "code",
   "execution_count": 5,
   "metadata": {},
   "outputs": [],
   "source": [
    "def gerando_pagamento():\n",
    "    # Escolhendo aleatoriamente entre formas de pagamento\n",
    "    pagamento = np.random.choice(['debito', 'credito', 'pix'])\n",
    "    return pagamento"
   ]
  },
  {
   "cell_type": "code",
   "execution_count": 6,
   "metadata": {},
   "outputs": [],
   "source": [
    "def gerando_categoria():    \n",
    "    categoria = np.random.choice(['Batido com frutas', 'Natural'])\n",
    "    return categoria\n"
   ]
  },
  {
   "cell_type": "code",
   "execution_count": 7,
   "metadata": {},
   "outputs": [],
   "source": [
    "def gerando_quantidade():\n",
    "    quantidade = np.random.choice (1, 3, size=num_registros)"
   ]
  },
  {
   "cell_type": "markdown",
   "metadata": {},
   "source": [
    "#### Criando uma função para criar horas aleatórias e que mostre quando for fazer a análise qual hora do dia mais vendeu."
   ]
  },
  {
   "cell_type": "code",
   "execution_count": 8,
   "metadata": {},
   "outputs": [],
   "source": [
    "\"\"\"A loja abre às 10h da manhã e fecha às 20h. \n",
    "Defini para que a hora de venda seja gerada aleatoriamente entre esse intervalo.\n",
    "\"\"\"\n",
    "def gerando_hora():\n",
    "    hora = np.random.randint(10, 20)\n",
    "\n",
    "# Gerando um minuto aleatório\n",
    "    minuto = np.random.randint(0, 59)\n",
    "\n",
    "# Criando o objeto time com hora e minuto\n",
    "    hora_venda = time(hora, minuto)\n",
    "    return time(hora, minuto)"
   ]
  },
  {
   "cell_type": "markdown",
   "metadata": {},
   "source": [
    "#### Definindo quantas linhas quero no dataset, datas... Nesse caso, vou criar 500 para termos bastante vendas variáveis "
   ]
  },
  {
   "cell_type": "code",
   "execution_count": 9,
   "metadata": {},
   "outputs": [],
   "source": [
    "np.random.seed()\n",
    "num_registros = 500"
   ]
  },
  {
   "cell_type": "markdown",
   "metadata": {},
   "source": [
    "#### Agora, irei criar as datas de vendas seguindo a regra de que seja de Janeiro de 2023 até dezembro de 2023"
   ]
  },
  {
   "cell_type": "code",
   "execution_count": 10,
   "metadata": {},
   "outputs": [],
   "source": [
    "#usando biblioteca Pandas para ajudar\n",
    "data = pd.date_range(start= '2023-01-01', end= '2023-12-31')\n",
    "#falei para o código agora que ele pode escolher uma data aleatória\n",
    "data = np.random.choice(data,size=num_registros)"
   ]
  },
  {
   "cell_type": "markdown",
   "metadata": {},
   "source": [
    "#### Criando as IDs de venda para identificar a venda"
   ]
  },
  {
   "cell_type": "code",
   "execution_count": 11,
   "metadata": {},
   "outputs": [],
   "source": [
    "#Defini números de 0 a 1000 para os IDs,\n",
    "# o comando \"random.randint\" diz que sera gerado de forma aleatória\n",
    "ids = np.random.randint(0, 1000, size=num_registros)"
   ]
  },
  {
   "cell_type": "markdown",
   "metadata": {},
   "source": [
    "#### Criando o dataframe pra gerar a tabela organizada"
   ]
  },
  {
   "cell_type": "code",
   "execution_count": 12,
   "metadata": {},
   "outputs": [],
   "source": [
    "#usarei a ferramenta da biblioteca Pandas para gerar a tabela\n",
    "df = pd.DataFrame({\n",
    "    'ID': ids,\n",
    "    'Data': data,\n",
    "    'Produto': [gerando_produto() for _ in range(num_registros)],\n",
    "    'Tamanho': [gerando_tamanho() for _ in range(num_registros)],\n",
    "    'Preço': [gerando_preco(gerando_tamanho()) for _ in range(num_registros)],    \n",
    "    'Quantidade': [np.random.randint(1, 3) for _ in range(num_registros)],\n",
    "    'Categoria': [gerando_categoria() for _ in range(num_registros)],\n",
    "    'Forma de Pagamento': [gerando_pagamento() for _ in range(num_registros)],\n",
    "    'Hora': [gerando_hora() for _ in range(num_registros)]\n",
    "})\n",
    "\n",
    "#reforçando que o preço está ligado ao tamanho\n",
    "df['Preço'] = df['Tamanho'].apply(gerando_preco)\n",
    "\n",
    "#calculando a quantidade vezes preço para saber o valor total da venda\n",
    "df['Valor Total'] = df['Quantidade'] * df['Preço']"
   ]
  },
  {
   "cell_type": "markdown",
   "metadata": {},
   "source": [
    "#### Vou agora especificar que quero que algumas linhas saem como nula para simular eventuais erros..."
   ]
  },
  {
   "cell_type": "code",
   "execution_count": 13,
   "metadata": {},
   "outputs": [
    {
     "name": "stdout",
     "output_type": "stream",
     "text": [
      "    ID       Data  Produto Tamanho  Preço  Quantidade          Categoria  \\\n",
      "0  558 2023-05-26  Sorvete   700ml     20           1            Natural   \n",
      "1  160 2023-08-09  Sorvete   200ml     10           1  Batido com frutas   \n",
      "2  903 2023-01-06     Acai   500ml     16           2            Natural   \n",
      "3  367 2023-11-27  Sorvete   300ml     13           2  Batido com frutas   \n",
      "4   76 2023-07-07     Acai   400ml     14           1  Batido com frutas   \n",
      "5  927 2023-05-25     Acai   500ml     16           2  Batido com frutas   \n",
      "6  566 2023-06-04  Sorvete   200ml     10           2  Batido com frutas   \n",
      "7  264 2023-04-09  Sorvete   300ml     13           2  Batido com frutas   \n",
      "8  738 2023-09-19     Acai   400ml     14           2            Natural   \n",
      "9  250 2023-05-31     Acai   200ml     10           1            Natural   \n",
      "\n",
      "  Forma de Pagamento      Hora  Valor Total  \n",
      "0             debito  17:42:00           20  \n",
      "1                pix  12:07:00           10  \n",
      "2                pix  19:47:00           32  \n",
      "3                pix  10:30:00           26  \n",
      "4             debito  18:15:00           14  \n",
      "5                pix  10:48:00           32  \n",
      "6                pix  18:34:00           20  \n",
      "7             debito  12:35:00           26  \n",
      "8                pix  17:07:00           28  \n",
      "9            credito  12:28:00           10  \n"
     ]
    }
   ],
   "source": [
    "# Pedi pra selecionar uma porcentagem para ficar bem aleatório\n",
    "num_nulos = int(0.1 * num_registros)  # Defini 10% dos IDs como nulos.\n",
    "\n",
    "\n",
    "# Verificando se os valores nulos foram atribuídos\n",
    "print(df.head(10))"
   ]
  },
  {
   "cell_type": "code",
   "execution_count": 15,
   "metadata": {},
   "outputs": [],
   "source": [
    "#salvando e convertendo para formato csv\n",
    "df.to_csv('Tabela Criada')"
   ]
  }
 ],
 "metadata": {
  "kernelspec": {
   "display_name": "base",
   "language": "python",
   "name": "python3"
  },
  "language_info": {
   "codemirror_mode": {
    "name": "ipython",
    "version": 3
   },
   "file_extension": ".py",
   "mimetype": "text/x-python",
   "name": "python",
   "nbconvert_exporter": "python",
   "pygments_lexer": "ipython3",
   "version": "3.11.7"
  }
 },
 "nbformat": 4,
 "nbformat_minor": 2
}

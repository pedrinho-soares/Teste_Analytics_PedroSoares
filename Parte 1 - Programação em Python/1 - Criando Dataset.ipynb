{
 "cells": [
  {
   "cell_type": "markdown",
   "metadata": {},
   "source": [
    "# Projeto Analytics QUOD - Pedro Soares"
   ]
  },
  {
   "cell_type": "markdown",
   "metadata": {},
   "source": [
    "#### Importando as Bibliotecas que irei usar aqui"
   ]
  },
  {
   "cell_type": "code",
   "execution_count": 15,
   "metadata": {},
   "outputs": [],
   "source": [
    "import pandas as pd\n",
    "import random\n",
    "import datetime\n",
    "import numpy as np\n",
    "from datetime import time"
   ]
  },
  {
   "cell_type": "markdown",
   "metadata": {},
   "source": [
    "#### Criando função para gerar nomes dos produtos que escolhi para simularmos"
   ]
  },
  {
   "cell_type": "code",
   "execution_count": 16,
   "metadata": {},
   "outputs": [],
   "source": [
    "def gerando_produto():\n",
    "    produto = np.random.choice(['Acai', 'Sorvete'])\n",
    "    return produto\n"
   ]
  },
  {
   "cell_type": "code",
   "execution_count": 17,
   "metadata": {},
   "outputs": [],
   "source": [
    "def gerando_tamanho():\n",
    "    tamanho = np.random.choice(['0', '200ml', '300ml', '400ml', '500ml', '700ml'])\n",
    "    return tamanho\n",
    "\n"
   ]
  },
  {
   "cell_type": "code",
   "execution_count": 18,
   "metadata": {},
   "outputs": [],
   "source": [
    "def gerando_preco(tamanho):\n",
    "    # Dicionário para atribuir preço com base no tamanho que colocamos acima\n",
    "    precos = {'0': 0, '200ml': 10, '300ml': 13, '400ml': 14, '500ml': 16, '700ml': 20}\n",
    "    return precos[tamanho]\n",
    "\n"
   ]
  },
  {
   "cell_type": "code",
   "execution_count": 19,
   "metadata": {},
   "outputs": [],
   "source": [
    "def gerando_pagamento():\n",
    "    # Escolhendo aleatoriamente entre formas de pagamento\n",
    "    pagamento = np.random.choice(['debito', 'credito', 'pix'])\n",
    "    return pagamento"
   ]
  },
  {
   "cell_type": "code",
   "execution_count": 20,
   "metadata": {},
   "outputs": [],
   "source": [
    "def gerando_categoria():    \n",
    "    categoria = np.random.choice(['Batido com frutas', 'Natural'])\n",
    "    return categoria\n"
   ]
  },
  {
   "cell_type": "code",
   "execution_count": 21,
   "metadata": {},
   "outputs": [],
   "source": [
    "def gerando_quantidade():\n",
    "    quantidade = np.random.choice (1, 3, size=num_registros)"
   ]
  },
  {
   "cell_type": "markdown",
   "metadata": {},
   "source": [
    "#### Criando uma função para criar horas aleatórias e que mostre quando for fazer a análise qual hora do dia mais vendeu."
   ]
  },
  {
   "cell_type": "code",
   "execution_count": 22,
   "metadata": {},
   "outputs": [],
   "source": [
    "\"\"\"A loja abre às 10h da manhã e fecha às 20h. \n",
    "Defini para que a hora de venda seja gerada aleatoriamente entre esse intervalo.\n",
    "\"\"\"\n",
    "def gerando_hora():\n",
    "    hora = np.random.randint(10, 20)\n",
    "\n",
    "# Gerando um minuto aleatório\n",
    "    minuto = np.random.randint(0, 59)\n",
    "\n",
    "# Criando o objeto time com hora e minuto\n",
    "    hora_venda = time(hora, minuto)\n",
    "    return time(hora, minuto)"
   ]
  },
  {
   "cell_type": "markdown",
   "metadata": {},
   "source": [
    "#### Definindo quantas linhas quero no dataset, datas... Nesse caso, vou criar 500 para termos bastante vendas variáveis "
   ]
  },
  {
   "cell_type": "code",
   "execution_count": 23,
   "metadata": {},
   "outputs": [],
   "source": [
    "np.random.seed()\n",
    "num_registros = 500"
   ]
  },
  {
   "cell_type": "markdown",
   "metadata": {},
   "source": [
    "#### Agora, irei criar as datas de vendas seguindo a regra de que seja de Janeiro de 2023 até dezembro de 2023"
   ]
  },
  {
   "cell_type": "code",
   "execution_count": 24,
   "metadata": {},
   "outputs": [],
   "source": [
    "#usando biblioteca Pandas para ajudar\n",
    "data = pd.date_range(start= '2023-01-01', end= '2023-12-31')\n",
    "#falei para o código agora que ele pode escolher uma data aleatória\n",
    "data = np.random.choice(data,size=num_registros)"
   ]
  },
  {
   "cell_type": "markdown",
   "metadata": {},
   "source": [
    "#### Criando as IDs de venda para identificar a venda"
   ]
  },
  {
   "cell_type": "code",
   "execution_count": 25,
   "metadata": {},
   "outputs": [],
   "source": [
    "#Defini números de 0 a 1000 para os IDs,\n",
    "# o comando \"random.randint\" diz que sera gerado de forma aleatória\n",
    "ids = np.random.randint(0, 1000, size=num_registros)"
   ]
  },
  {
   "cell_type": "markdown",
   "metadata": {},
   "source": [
    "#### Criando o dataframe pra gerar a tabela organizada"
   ]
  },
  {
   "cell_type": "code",
   "execution_count": 26,
   "metadata": {},
   "outputs": [],
   "source": [
    "#usarei a ferramenta da biblioteca Pandas para gerar a tabela\n",
    "df = pd.DataFrame({\n",
    "    'ID': ids,\n",
    "    'Data': data,\n",
    "    'Produto': [gerando_produto() for _ in range(num_registros)],\n",
    "    'Tamanho': [gerando_tamanho() for _ in range(num_registros)],\n",
    "    'Preço': [gerando_preco(gerando_tamanho()) for _ in range(num_registros)],    \n",
    "    'Quantidade': [np.random.randint(1, 3) for _ in range(num_registros)],\n",
    "    'Categoria': [gerando_categoria() for _ in range(num_registros)],\n",
    "    'Forma de Pagamento': [gerando_pagamento() for _ in range(num_registros)],\n",
    "    'Hora': [gerando_hora() for _ in range(num_registros)]\n",
    "})\n",
    "\n",
    "#reforçando que o preço está ligado ao tamanho\n",
    "df['Preço'] = df['Tamanho'].apply(gerando_preco)\n",
    "\n",
    "#calculando a quantidade vezes preço para saber o valor total da venda\n",
    "df['Valor Total'] = df['Quantidade'] * df['Preço']"
   ]
  },
  {
   "cell_type": "markdown",
   "metadata": {},
   "source": [
    "#### Vou agora especificar que quero que algumas linhas saem como nula para simular eventuais erros..."
   ]
  },
  {
   "cell_type": "code",
   "execution_count": 27,
   "metadata": {},
   "outputs": [
    {
     "name": "stdout",
     "output_type": "stream",
     "text": [
      "    ID       Data  Produto Tamanho  Preço  Quantidade          Categoria  \\\n",
      "0  113 2023-03-18     Acai   200ml     10           2  Batido com frutas   \n",
      "1  712 2023-12-14     Acai   400ml     14           1  Batido com frutas   \n",
      "2  880 2023-06-16     Acai   700ml     20           2  Batido com frutas   \n",
      "3  375 2023-09-22     Acai   400ml     14           2            Natural   \n",
      "4  807 2023-03-28     Acai   200ml     10           2  Batido com frutas   \n",
      "5  220 2023-07-01     Acai   300ml     13           2            Natural   \n",
      "6  270 2023-08-25  Sorvete   500ml     16           1            Natural   \n",
      "7  908 2023-12-20  Sorvete   300ml     13           2  Batido com frutas   \n",
      "8  134 2023-10-05     Acai   300ml     13           2            Natural   \n",
      "9  169 2023-04-03  Sorvete   200ml     10           2            Natural   \n",
      "\n",
      "  Forma de Pagamento      Hora  Valor Total  \n",
      "0                pix  17:20:00           20  \n",
      "1             debito  13:25:00           14  \n",
      "2             debito  16:24:00           40  \n",
      "3             debito  15:03:00           28  \n",
      "4                pix  19:50:00           20  \n",
      "5                pix  13:03:00           26  \n",
      "6             debito  17:11:00           16  \n",
      "7             debito  11:50:00           26  \n",
      "8            credito  14:52:00           26  \n",
      "9            credito  11:23:00           20  \n"
     ]
    }
   ],
   "source": [
    "# Pedi pra selecionar uma porcentagem para ficar bem aleatório\n",
    "num_nulos = int(0.1 * num_registros)  # Defini 10% dos IDs como nulos.\n",
    "\n",
    "\n",
    "# Verificando se os valores nulos foram atribuídos\n",
    "print(df.head(10))"
   ]
  },
  {
   "cell_type": "code",
   "execution_count": 28,
   "metadata": {},
   "outputs": [],
   "source": [
    "#salvando e convertendo para formato csv\n",
    "df.to_csv('Tabela Quod')"
   ]
  }
 ],
 "metadata": {
  "kernelspec": {
   "display_name": "base",
   "language": "python",
   "name": "python3"
  },
  "language_info": {
   "codemirror_mode": {
    "name": "ipython",
    "version": 3
   },
   "file_extension": ".py",
   "mimetype": "text/x-python",
   "name": "python",
   "nbconvert_exporter": "python",
   "pygments_lexer": "ipython3",
   "version": "3.11.7"
  }
 },
 "nbformat": 4,
 "nbformat_minor": 2
}

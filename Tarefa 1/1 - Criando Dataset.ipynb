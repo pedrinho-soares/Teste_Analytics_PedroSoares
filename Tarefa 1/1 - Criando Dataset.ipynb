{
 "cells": [
  {
   "cell_type": "markdown",
   "metadata": {},
   "source": [
    "# Projeto Analytics QUOD - Pedro Soares"
   ]
  },
  {
   "cell_type": "markdown",
   "metadata": {},
   "source": [
    "#### Importando as Bibliotecas que irei usar aqui"
   ]
  },
  {
   "cell_type": "code",
   "execution_count": 15,
   "metadata": {},
   "outputs": [],
   "source": [
    "import pandas as pd\n",
    "import random\n",
    "import datetime\n",
    "import numpy as np\n",
    "from datetime import time"
   ]
  },
  {
   "cell_type": "markdown",
   "metadata": {},
   "source": [
    "#### Criando função para gerar nomes dos produtos que escolhi para simularmos"
   ]
  },
  {
   "cell_type": "code",
   "execution_count": 16,
   "metadata": {},
   "outputs": [],
   "source": [
    "def gerando_produto():\n",
    "    # Certifique-se de que o argumento de np.random.choice seja uma lista ou array\n",
    "    produto = np.random.choice(['Acai', 'Sorvete'])\n",
    "    return produto\n"
   ]
  },
  {
   "cell_type": "code",
   "execution_count": 17,
   "metadata": {},
   "outputs": [],
   "source": [
    "def gerando_tamanho():\n",
    "    # Escolhendo aleatoriamente entre tamanhos disponíveis\n",
    "    tamanho = np.random.choice(['0', '200ml', '300ml', '400ml', '500ml', '700ml'])\n",
    "    return tamanho\n",
    "\n"
   ]
  },
  {
   "cell_type": "code",
   "execution_count": 18,
   "metadata": {},
   "outputs": [],
   "source": [
    "def gerando_preco(tamanho):\n",
    "    # Dicionário para atribuir preço baseado no tamanho\n",
    "    precos = {'0': 0, '200ml': 10, '300ml': 13, '400ml': 14, '500ml': 16, '700ml': 20}\n",
    "    return precos[tamanho]\n",
    "\n"
   ]
  },
  {
   "cell_type": "code",
   "execution_count": 19,
   "metadata": {},
   "outputs": [],
   "source": [
    "def gerando_pagamento():\n",
    "    # Escolhendo aleatoriamente entre formas de pagamento\n",
    "    pagamento = np.random.choice(['debito', 'credito', 'pix'])\n",
    "    return pagamento"
   ]
  },
  {
   "cell_type": "code",
   "execution_count": 20,
   "metadata": {},
   "outputs": [],
   "source": [
    "def gerando_categoria():    \n",
    "    categoria = np.random.choice(['Batido com frutas', 'Natural'])\n",
    "    return categoria\n"
   ]
  },
  {
   "cell_type": "code",
   "execution_count": 21,
   "metadata": {},
   "outputs": [],
   "source": [
    "def gerando_quantidade():\n",
    "    quantidade = np.random.choice (1, 3, size=num_registros)"
   ]
  },
  {
   "cell_type": "markdown",
   "metadata": {},
   "source": [
    "#### Criando uma função para criar horas aleatórias e que mostre quando for fazer a análise qual hora do dia mais vendeu."
   ]
  },
  {
   "cell_type": "code",
   "execution_count": 22,
   "metadata": {},
   "outputs": [],
   "source": [
    "\"\"\"A loja abre às 10h da manhã e fecha às 20h. \n",
    "Defini para que a hora de venda seja gerada aleatoriamente entre esse intervalo.\n",
    "\"\"\"\n",
    "def gerando_hora():\n",
    "    hora = np.random.randint(10, 20)\n",
    "\n",
    "# Gerando um minuto aleatório entre 0 e 59\n",
    "    minuto = np.random.randint(0, 59)\n",
    "\n",
    "# Criando o objeto time com hora e minuto\n",
    "    hora_venda = time(hora, minuto)\n",
    "    return time(hora, minuto)"
   ]
  },
  {
   "cell_type": "markdown",
   "metadata": {},
   "source": [
    "#### Definindo quantas linhas quero no dataset, datas... Nesse caso, vou criar 500 para termos bastante vendas variáveis "
   ]
  },
  {
   "cell_type": "code",
   "execution_count": 23,
   "metadata": {},
   "outputs": [],
   "source": [
    "np.random.seed()\n",
    "num_registros = 500"
   ]
  },
  {
   "cell_type": "markdown",
   "metadata": {},
   "source": [
    "#### Agora, irei criar as datas de vendas seguindo a regra de que seja de Janeiro de 2023 até dezembro de 2023"
   ]
  },
  {
   "cell_type": "code",
   "execution_count": 24,
   "metadata": {},
   "outputs": [],
   "source": [
    "#usando biblioteca Pandas para ajudar\n",
    "data = pd.date_range(start= '2023-01-01', end= '2023-12-31')\n",
    "#falei para o código agora que ele pode escolher uma data aleatória\n",
    "data = np.random.choice(data,size=num_registros)"
   ]
  },
  {
   "cell_type": "markdown",
   "metadata": {},
   "source": [
    "#### Criando as IDs de venda para identificar a venda"
   ]
  },
  {
   "cell_type": "code",
   "execution_count": 25,
   "metadata": {},
   "outputs": [],
   "source": [
    "#Defini números de 0 a 1000 para os IDs, eles\n",
    "#\"random.randint\" diz que sera gerado de forma aleatória\n",
    "ids = np.random.randint(0, 1000, size=num_registros)"
   ]
  },
  {
   "cell_type": "markdown",
   "metadata": {},
   "source": [
    "#### Criando o dataframe pra gerar a tabela organizada"
   ]
  },
  {
   "cell_type": "code",
   "execution_count": 26,
   "metadata": {},
   "outputs": [],
   "source": [
    "#usarei a ferramenta da biblioteca Pandas para gerar a tabela\n",
    "df = pd.DataFrame({\n",
    "    'ID': ids,\n",
    "    'Data': data,\n",
    "    'Produto': [gerando_produto() for _ in range(num_registros)],\n",
    "    'Tamanho': [gerando_tamanho() for _ in range(num_registros)],\n",
    "    'Preço': [gerando_preco(gerando_tamanho()) for _ in range(num_registros)],    \n",
    "    'Quantidade': [np.random.randint(1, 3) for _ in range(num_registros)],\n",
    "    'Categoria': [gerando_categoria() for _ in range(num_registros)],\n",
    "    'Forma de Pagamento': [gerando_pagamento() for _ in range(num_registros)],\n",
    "    'Hora': [gerando_hora() for _ in range(num_registros)]\n",
    "})\n",
    "\n",
    "#reforçando que o preço está ligado ao tamanho\n",
    "df['Preço'] = df['Tamanho'].apply(gerando_preco)\n",
    "\n",
    "#calculando a quantidade vezes preço para saber o valor total da venda\n",
    "df['Valor Total'] = df['Quantidade'] * df['Preço']"
   ]
  },
  {
   "cell_type": "markdown",
   "metadata": {},
   "source": [
    "#### Vou agora especificar que quero que algumas linhas saem como nula para simular eventuais erros..."
   ]
  },
  {
   "cell_type": "code",
   "execution_count": 27,
   "metadata": {},
   "outputs": [
    {
     "name": "stdout",
     "output_type": "stream",
     "text": [
      "    ID       Data  Produto Tamanho  Preço  Quantidade          Categoria  \\\n",
      "0   14 2023-02-24     Acai   700ml     20           2            Natural   \n",
      "1  551 2023-12-28  Sorvete   300ml     13           2  Batido com frutas   \n",
      "2  960 2023-06-28  Sorvete   700ml     20           1            Natural   \n",
      "3    8 2023-12-08     Acai   500ml     16           2  Batido com frutas   \n",
      "4  659 2023-08-09  Sorvete   400ml     14           2            Natural   \n",
      "5  413 2023-06-27  Sorvete       0      0           1  Batido com frutas   \n",
      "6  989 2023-08-23  Sorvete   300ml     13           1  Batido com frutas   \n",
      "7  571 2023-01-16     Acai       0      0           1            Natural   \n",
      "8  531 2023-10-01     Acai   200ml     10           1  Batido com frutas   \n",
      "9  352 2023-06-12  Sorvete   200ml     10           1  Batido com frutas   \n",
      "\n",
      "  Forma de Pagamento      Hora  Valor Total  \n",
      "0            credito  11:01:00           40  \n",
      "1                pix  16:34:00           26  \n",
      "2                pix  11:03:00           20  \n",
      "3            credito  16:21:00           32  \n",
      "4             debito  17:19:00           28  \n",
      "5                pix  10:14:00            0  \n",
      "6                pix  13:16:00           13  \n",
      "7            credito  15:49:00            0  \n",
      "8             debito  16:05:00           10  \n",
      "9            credito  14:07:00           10  \n"
     ]
    }
   ],
   "source": [
    "# Pedi pra selecionar uma porcentagem para ficar bem aleatório\n",
    "num_nulos = int(0.1 * num_registros)  # Defini 10% dos IDs como nulos.\n",
    "\n",
    "\n",
    "# Verificando se os valores nulos foram atribuídos\n",
    "print(df.head(10))"
   ]
  },
  {
   "cell_type": "code",
   "execution_count": 28,
   "metadata": {},
   "outputs": [],
   "source": [
    "df.to_csv('Tabela Quod')"
   ]
  }
 ],
 "metadata": {
  "kernelspec": {
   "display_name": "base",
   "language": "python",
   "name": "python3"
  },
  "language_info": {
   "codemirror_mode": {
    "name": "ipython",
    "version": 3
   },
   "file_extension": ".py",
   "mimetype": "text/x-python",
   "name": "python",
   "nbconvert_exporter": "python",
   "pygments_lexer": "ipython3",
   "version": "3.11.7"
  }
 },
 "nbformat": 4,
 "nbformat_minor": 2
}
